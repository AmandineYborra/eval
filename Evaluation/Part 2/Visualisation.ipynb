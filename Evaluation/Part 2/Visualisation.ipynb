{
 "cells": [
  {
   "cell_type": "markdown",
   "metadata": {},
   "source": [
    "# Visualisation "
   ]
  },
  {
   "cell_type": "code",
   "execution_count": 1,
   "metadata": {},
   "outputs": [],
   "source": [
    "import pandas as pd\n",
    "import numpy as np\n",
    "import matplotlib as mpl\n",
    "import matplotlib.pyplot as plt\n",
    "\n",
    "# print the graphs in the notebook\n",
    "% matplotlib inline"
   ]
  },
  {
   "cell_type": "code",
   "execution_count": 2,
   "metadata": {},
   "outputs": [
    {
     "data": {
      "text/html": [
       "<div>\n",
       "<style scoped>\n",
       "    .dataframe tbody tr th:only-of-type {\n",
       "        vertical-align: middle;\n",
       "    }\n",
       "\n",
       "    .dataframe tbody tr th {\n",
       "        vertical-align: top;\n",
       "    }\n",
       "\n",
       "    .dataframe thead th {\n",
       "        text-align: right;\n",
       "    }\n",
       "</style>\n",
       "<table border=\"1\" class=\"dataframe\">\n",
       "  <thead>\n",
       "    <tr style=\"text-align: right;\">\n",
       "      <th></th>\n",
       "      <th>annee</th>\n",
       "      <th>idelevage</th>\n",
       "      <th>Nom_Animal</th>\n",
       "      <th>rendement</th>\n",
       "      <th>Rendement_Min</th>\n",
       "      <th>Rendement_Max</th>\n",
       "      <th>Rendement_Moyen</th>\n",
       "      <th>Ecart_Type_Rendement</th>\n",
       "    </tr>\n",
       "  </thead>\n",
       "  <tbody>\n",
       "    <tr>\n",
       "      <th>0</th>\n",
       "      <td>15</td>\n",
       "      <td>3</td>\n",
       "      <td>chevre</td>\n",
       "      <td>20.0221</td>\n",
       "      <td>20.0221</td>\n",
       "      <td>20.0221</td>\n",
       "      <td>20.0221</td>\n",
       "      <td>0</td>\n",
       "    </tr>\n",
       "    <tr>\n",
       "      <th>1</th>\n",
       "      <td>15</td>\n",
       "      <td>5</td>\n",
       "      <td>vache laitiere</td>\n",
       "      <td>183.9249</td>\n",
       "      <td>183.9249</td>\n",
       "      <td>183.9249</td>\n",
       "      <td>183.9249</td>\n",
       "      <td>0</td>\n",
       "    </tr>\n",
       "    <tr>\n",
       "      <th>2</th>\n",
       "      <td>15</td>\n",
       "      <td>6</td>\n",
       "      <td>canard</td>\n",
       "      <td>6.7048</td>\n",
       "      <td>6.7048</td>\n",
       "      <td>6.7048</td>\n",
       "      <td>6.7048</td>\n",
       "      <td>0</td>\n",
       "    </tr>\n",
       "    <tr>\n",
       "      <th>3</th>\n",
       "      <td>15</td>\n",
       "      <td>9</td>\n",
       "      <td>chevre</td>\n",
       "      <td>13.1947</td>\n",
       "      <td>13.1947</td>\n",
       "      <td>13.1947</td>\n",
       "      <td>13.1947</td>\n",
       "      <td>0</td>\n",
       "    </tr>\n",
       "    <tr>\n",
       "      <th>4</th>\n",
       "      <td>15</td>\n",
       "      <td>15</td>\n",
       "      <td>chevre</td>\n",
       "      <td>13.1968</td>\n",
       "      <td>13.1968</td>\n",
       "      <td>13.1968</td>\n",
       "      <td>13.1968</td>\n",
       "      <td>0</td>\n",
       "    </tr>\n",
       "  </tbody>\n",
       "</table>\n",
       "</div>"
      ],
      "text/plain": [
       "   annee  idelevage      Nom_Animal  rendement  Rendement_Min  Rendement_Max  \\\n",
       "0     15          3          chevre    20.0221        20.0221        20.0221   \n",
       "1     15          5  vache laitiere   183.9249       183.9249       183.9249   \n",
       "2     15          6          canard     6.7048         6.7048         6.7048   \n",
       "3     15          9          chevre    13.1947        13.1947        13.1947   \n",
       "4     15         15          chevre    13.1968        13.1968        13.1968   \n",
       "\n",
       "   Rendement_Moyen  Ecart_Type_Rendement  \n",
       "0          20.0221                     0  \n",
       "1         183.9249                     0  \n",
       "2           6.7048                     0  \n",
       "3          13.1947                     0  \n",
       "4          13.1968                     0  "
      ]
     },
     "execution_count": 2,
     "metadata": {},
     "output_type": "execute_result"
    }
   ],
   "source": [
    "vis_evaluation = pd.read_csv(\"C:/Users/Dell/Desktop/Evaluation/Part 2/rendement_animaux.csv\", sep=\",\")\n",
    "vis_evaluation.head()"
   ]
  },
  {
   "cell_type": "code",
   "execution_count": 3,
   "metadata": {},
   "outputs": [
    {
     "data": {
      "text/html": [
       "<div>\n",
       "<style scoped>\n",
       "    .dataframe tbody tr th:only-of-type {\n",
       "        vertical-align: middle;\n",
       "    }\n",
       "\n",
       "    .dataframe tbody tr th {\n",
       "        vertical-align: top;\n",
       "    }\n",
       "\n",
       "    .dataframe thead th {\n",
       "        text-align: right;\n",
       "    }\n",
       "</style>\n",
       "<table border=\"1\" class=\"dataframe\">\n",
       "  <thead>\n",
       "    <tr style=\"text-align: right;\">\n",
       "      <th></th>\n",
       "      <th>Nom_Animal</th>\n",
       "      <th>Rendement_Moyen</th>\n",
       "    </tr>\n",
       "  </thead>\n",
       "  <tbody>\n",
       "    <tr>\n",
       "      <th>0</th>\n",
       "      <td>chevre</td>\n",
       "      <td>20.0221</td>\n",
       "    </tr>\n",
       "    <tr>\n",
       "      <th>1</th>\n",
       "      <td>vache laitiere</td>\n",
       "      <td>183.9249</td>\n",
       "    </tr>\n",
       "    <tr>\n",
       "      <th>2</th>\n",
       "      <td>canard</td>\n",
       "      <td>6.7048</td>\n",
       "    </tr>\n",
       "    <tr>\n",
       "      <th>3</th>\n",
       "      <td>chevre</td>\n",
       "      <td>13.1947</td>\n",
       "    </tr>\n",
       "    <tr>\n",
       "      <th>4</th>\n",
       "      <td>chevre</td>\n",
       "      <td>13.1968</td>\n",
       "    </tr>\n",
       "  </tbody>\n",
       "</table>\n",
       "</div>"
      ],
      "text/plain": [
       "       Nom_Animal  Rendement_Moyen\n",
       "0          chevre          20.0221\n",
       "1  vache laitiere         183.9249\n",
       "2          canard           6.7048\n",
       "3          chevre          13.1947\n",
       "4          chevre          13.1968"
      ]
     },
     "execution_count": 3,
     "metadata": {},
     "output_type": "execute_result"
    }
   ],
   "source": [
    "vis1=vis_evaluation.loc[:, ['Nom_Animal', 'Rendement_Moyen']]\n",
    "vis1.head()"
   ]
  },
  {
   "cell_type": "code",
   "execution_count": 4,
   "metadata": {},
   "outputs": [
    {
     "data": {
      "text/html": [
       "<div>\n",
       "<style scoped>\n",
       "    .dataframe tbody tr th:only-of-type {\n",
       "        vertical-align: middle;\n",
       "    }\n",
       "\n",
       "    .dataframe tbody tr th {\n",
       "        vertical-align: top;\n",
       "    }\n",
       "\n",
       "    .dataframe thead th {\n",
       "        text-align: right;\n",
       "    }\n",
       "</style>\n",
       "<table border=\"1\" class=\"dataframe\">\n",
       "  <thead>\n",
       "    <tr style=\"text-align: right;\">\n",
       "      <th></th>\n",
       "      <th>Rendement_Moyen</th>\n",
       "    </tr>\n",
       "    <tr>\n",
       "      <th>Nom_Animal</th>\n",
       "      <th></th>\n",
       "    </tr>\n",
       "  </thead>\n",
       "  <tbody>\n",
       "    <tr>\n",
       "      <th>chevre</th>\n",
       "      <td>20.0221</td>\n",
       "    </tr>\n",
       "    <tr>\n",
       "      <th>vache laitiere</th>\n",
       "      <td>183.9249</td>\n",
       "    </tr>\n",
       "    <tr>\n",
       "      <th>canard</th>\n",
       "      <td>6.7048</td>\n",
       "    </tr>\n",
       "    <tr>\n",
       "      <th>chevre</th>\n",
       "      <td>13.1947</td>\n",
       "    </tr>\n",
       "    <tr>\n",
       "      <th>chevre</th>\n",
       "      <td>13.1968</td>\n",
       "    </tr>\n",
       "  </tbody>\n",
       "</table>\n",
       "</div>"
      ],
      "text/plain": [
       "                Rendement_Moyen\n",
       "Nom_Animal                     \n",
       "chevre                  20.0221\n",
       "vache laitiere         183.9249\n",
       "canard                   6.7048\n",
       "chevre                  13.1947\n",
       "chevre                  13.1968"
      ]
     },
     "execution_count": 4,
     "metadata": {},
     "output_type": "execute_result"
    }
   ],
   "source": [
    "vis1=vis1.set_index('Nom_Animal')\n",
    "vis1.head()"
   ]
  },
  {
   "cell_type": "code",
   "execution_count": 5,
   "metadata": {},
   "outputs": [
    {
     "data": {
      "text/html": [
       "<div>\n",
       "<style scoped>\n",
       "    .dataframe tbody tr th:only-of-type {\n",
       "        vertical-align: middle;\n",
       "    }\n",
       "\n",
       "    .dataframe tbody tr th {\n",
       "        vertical-align: top;\n",
       "    }\n",
       "\n",
       "    .dataframe thead th {\n",
       "        text-align: right;\n",
       "    }\n",
       "</style>\n",
       "<table border=\"1\" class=\"dataframe\">\n",
       "  <thead>\n",
       "    <tr style=\"text-align: right;\">\n",
       "      <th></th>\n",
       "      <th>Rendement_Moyen</th>\n",
       "    </tr>\n",
       "    <tr>\n",
       "      <th>Nom_Animal</th>\n",
       "      <th></th>\n",
       "    </tr>\n",
       "  </thead>\n",
       "  <tbody>\n",
       "    <tr>\n",
       "      <th>poulet</th>\n",
       "      <td>2.2551</td>\n",
       "    </tr>\n",
       "    <tr>\n",
       "      <th>chevre</th>\n",
       "      <td>4.4154</td>\n",
       "    </tr>\n",
       "    <tr>\n",
       "      <th>chevre</th>\n",
       "      <td>5.6431</td>\n",
       "    </tr>\n",
       "    <tr>\n",
       "      <th>canard</th>\n",
       "      <td>5.6866</td>\n",
       "    </tr>\n",
       "    <tr>\n",
       "      <th>canard</th>\n",
       "      <td>6.4088</td>\n",
       "    </tr>\n",
       "  </tbody>\n",
       "</table>\n",
       "</div>"
      ],
      "text/plain": [
       "            Rendement_Moyen\n",
       "Nom_Animal                 \n",
       "poulet               2.2551\n",
       "chevre               4.4154\n",
       "chevre               5.6431\n",
       "canard               5.6866\n",
       "canard               6.4088"
      ]
     },
     "execution_count": 5,
     "metadata": {},
     "output_type": "execute_result"
    }
   ],
   "source": [
    "vis1=vis1.sort_values(ascending=True, by='Rendement_Moyen')\n",
    "vis1.head()"
   ]
  },
  {
   "cell_type": "code",
   "execution_count": 15,
   "metadata": {},
   "outputs": [
    {
     "data": {
      "text/plain": [
       "Text(0.5,0,'Rendement Moyen')"
      ]
     },
     "execution_count": 15,
     "metadata": {},
     "output_type": "execute_result"
    },
    {
     "data": {
      "image/png": "[encoded data removed]",
      "text/plain": [
       "<Figure size 1440x2880 with 1 Axes>"
      ]
     },
     "metadata": {
      "needs_background": "light"
     },
     "output_type": "display_data"
    }
   ],
   "source": [
    "#Création du graphique\n",
    "vis1.plot(kind='barh', figsize=(20, 40), color=\"purple\")\n",
    "plt.title('Rendement Moyen par Animaux de différents élevages')\n",
    "plt.xlabel('Rendement Moyen')"
   ]
  },
  {
   "cell_type": "code",
   "execution_count": 23,
   "metadata": {},
   "outputs": [
    {
     "data": {
      "text/html": [
       "<div>\n",
       "<style scoped>\n",
       "    .dataframe tbody tr th:only-of-type {\n",
       "        vertical-align: middle;\n",
       "    }\n",
       "\n",
       "    .dataframe tbody tr th {\n",
       "        vertical-align: top;\n",
       "    }\n",
       "\n",
       "    .dataframe thead th {\n",
       "        text-align: right;\n",
       "    }\n",
       "</style>\n",
       "<table border=\"1\" class=\"dataframe\">\n",
       "  <thead>\n",
       "    <tr style=\"text-align: right;\">\n",
       "      <th></th>\n",
       "      <th>rendement</th>\n",
       "    </tr>\n",
       "  </thead>\n",
       "  <tbody>\n",
       "    <tr>\n",
       "      <th>0</th>\n",
       "      <td>20.0221</td>\n",
       "    </tr>\n",
       "    <tr>\n",
       "      <th>1</th>\n",
       "      <td>183.9249</td>\n",
       "    </tr>\n",
       "    <tr>\n",
       "      <th>2</th>\n",
       "      <td>6.7048</td>\n",
       "    </tr>\n",
       "    <tr>\n",
       "      <th>3</th>\n",
       "      <td>13.1947</td>\n",
       "    </tr>\n",
       "    <tr>\n",
       "      <th>4</th>\n",
       "      <td>13.1968</td>\n",
       "    </tr>\n",
       "  </tbody>\n",
       "</table>\n",
       "</div>"
      ],
      "text/plain": [
       "   rendement\n",
       "0    20.0221\n",
       "1   183.9249\n",
       "2     6.7048\n",
       "3    13.1947\n",
       "4    13.1968"
      ]
     },
     "execution_count": 23,
     "metadata": {},
     "output_type": "execute_result"
    }
   ],
   "source": [
    "vis2=vis_evaluation.loc[:, ['rendement']]\n",
    "vis2.head()"
   ]
  },
  {
   "cell_type": "code",
   "execution_count": 27,
   "metadata": {},
   "outputs": [
    {
     "data": {
      "text/plain": [
       "Text(0.5,1,'Profil du rendement')"
      ]
     },
     "execution_count": 27,
     "metadata": {},
     "output_type": "execute_result"
    },
    {
     "data": {
      "image/png": "[encoded data removed]",
      "text/plain": [
       "<Figure size 864x864 with 1 Axes>"
      ]
     },
     "metadata": {
      "needs_background": "light"
     },
     "output_type": "display_data"
    }
   ],
   "source": [
    "# Création de graphique\n",
    "vis2.boxplot(figsize=(12,12))\n",
    "plt.title('Profil du rendement')"
   ]
  },
  {
   "cell_type": "code",
   "execution_count": null,
   "metadata": {},
   "outputs": [],
   "source": []
  }
 ],
 "metadata": {
  "kernelspec": {
   "display_name": "Python 3",
   "language": "python",
   "name": "python3"
  },
  "language_info": {
   "codemirror_mode": {
    "name": "ipython",
    "version": 3
   },
   "file_extension": ".py",
   "mimetype": "text/x-python",
   "name": "python",
   "nbconvert_exporter": "python",
   "pygments_lexer": "ipython3",
   "version": "3.7.0"
  }
 },
 "nbformat": 4,
 "nbformat_minor": 2
}
